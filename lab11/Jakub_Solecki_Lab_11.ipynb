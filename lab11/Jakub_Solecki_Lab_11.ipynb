{
 "cells": [
  {
   "cell_type": "markdown",
   "metadata": {},
   "source": [
    "## Rozwiązywanie układów równań liniowych metodami interacyjnymi \n",
    "\n",
    "### Zadanie 1\n",
    "Zaimplementuj metodę Jacobiego. Podaj warunki jej stosowalności. Wygeneruj co najmniej trzy odpowiednie macierze o różnych wielkościach i sprawdź działanie swojej metody. Zwróć uwagę na zbieżność tej metody. \n",
    "\n",
    "Warunkiem stosowalności metody Jacobiego jest aby macierz współczynników była nieredukowalna oraz diagonalnie dominująca. Z tego też powodu należy generować macierze spełniające powyższy warunek."
   ]
  },
  {
   "cell_type": "code",
   "execution_count": 39,
   "metadata": {},
   "outputs": [],
   "source": [
    "import numpy as np\n",
    "import random\n",
    "\n",
    "\n",
    "def jacobi(A, b, eps=1e-10, n=500):\n",
    "    D = np.diag(np.diag(A))\n",
    "    LU = A - D\n",
    "    x = np.zeros(len(b))\n",
    "    it = 0\n",
    "\n",
    "    for i in range(n):\n",
    "        D_inv = np.diag(1 / np.diag(D))\n",
    "        x_new = np.dot(D_inv, b - np.dot(LU, x))\n",
    "        it += 1\n",
    "        if np.linalg.norm(x_new - x) < eps:\n",
    "            return x_new, it\n",
    "        x = x_new\n",
    "\n",
    "    return x, it\n",
    "\n",
    "\n",
    "def random_matrix_vector(m_min, m_max, v_min, v_max, n):\n",
    "    A = np.zeros((n, n))\n",
    "    b = np.random.uniform(low=v_min, high=v_max + 1, size=(n,))\n",
    "\n",
    "    for i in range(n):\n",
    "        sum = 0\n",
    "\n",
    "        for j in range(n):\n",
    "            if j >= i:\n",
    "                A[i][j] = random.randint(m_min, m_max)\n",
    "                A[j][i] = A[i][j]\n",
    "            if i != j:\n",
    "                sum += abs(A[i][j])\n",
    "\n",
    "        A[i][i] = sum\n",
    "\n",
    "    return A, b\n",
    "\n",
    "def comparison(m_min, m_max, v_min, v_max, n_size, n_iter, eps=1e-10):\n",
    "    A, b = random_matrix_vector(m_min, m_max, v_min, v_max, n_size)\n",
    "    print(f\"Numpy\\n{np.linalg.solve(A, b)}\")\n",
    "    print(f\"Jacobi method:\\n{jacobi(A, b, eps, n_iter)}\\n\\n\")"
   ]
  },
  {
   "cell_type": "code",
   "execution_count": 40,
   "metadata": {},
   "outputs": [
    {
     "name": "stdout",
     "output_type": "stream",
     "text": [
      "Numpy\n",
      "[ 0.51616005  0.42450849 -0.3729423   0.06218176  0.01059072]\n",
      "Jacobi method:\n",
      "(array([ 0.51616005,  0.42450849, -0.3729423 ,  0.06218176,  0.01059072]), 188)\n",
      "\n",
      "\n"
     ]
    }
   ],
   "source": [
    "comparison(-15, 15, -10, 10, 5, 1000)"
   ]
  },
  {
   "cell_type": "code",
   "execution_count": 41,
   "metadata": {},
   "outputs": [
    {
     "name": "stdout",
     "output_type": "stream",
     "text": [
      "Numpy\n",
      "[-0.04949928 -0.02824627  0.00558358  0.0125458   0.03091845]\n",
      "Jacobi method:\n",
      "(array([-0.04949928, -0.02824627,  0.00558358,  0.0125458 ,  0.03091845]), 722)\n",
      "\n",
      "\n"
     ]
    }
   ],
   "source": [
    "comparison(-25, 25, -5, 5, 5, 1000)"
   ]
  },
  {
   "cell_type": "code",
   "execution_count": 42,
   "metadata": {},
   "outputs": [
    {
     "name": "stdout",
     "output_type": "stream",
     "text": [
      "Numpy\n",
      "[-5.2495625e+15 -5.2495625e+15  5.2495625e+15 -5.2495625e+15\n",
      "  5.2495625e+15]\n",
      "Jacobi method:\n",
      "(array([ 410.31069052,  408.5978277 , -409.18965228,  409.11100193,\n",
      "       -408.76051867]), 1000)\n",
      "\n",
      "\n"
     ]
    }
   ],
   "source": [
    "comparison(-15, 15, -20, 20, 5, 1000)"
   ]
  },
  {
   "cell_type": "markdown",
   "metadata": {},
   "source": [
    "Jak widac powyżej, metoda Jacobiego działa zgodnie z oczekiwaniami."
   ]
  },
  {
   "cell_type": "markdown",
   "metadata": {},
   "source": [
    "### Zadanie 2\n",
    "Zaimplementuj metodę Gaussa-Seidla i kolejnych nadrelaksacji (successive over-relaxation). Podaj warunki stosowalności tych metod. Przeprowadź badanie działania swoich implementacji analogicznie jak w poprzednim zadaniu. Porównaj zbieżność wszystkich trzech metod.\n",
    "\n",
    "Metoda Gaussa-Seidela zachwouje warunki metody Jacobiego. Jeżeli macierz wejściowa jest dodatnio określona to metoda Gaussa-Seidela jest zbieżna dla dowolnego wektora początkowego [8, 10]. Metoda Gaussa-Seidela jest stosowana dla macierzy diagonalnie dominujących ponieważ zazwyczaj jest to łatwy do spełnienia warunek gwarantujący zbieżność metody.\n",
    "\n",
    "Metoda kolejnych nadrelaksacji (SOR - Successive Over-Relaxation) jest to modyfikacja metody Gaussa-Seidela (warunki te same) również zchwouje warunki metody Gaussa. Przypsiesza ona zbieżność ciągu przez przemnożenie przez odpowiednio dobraną liczbę $\\omega$. Parametr $\\omega$ służy do polepszania (przyspieszania) zbiezności metody i może przyjmować wartości z przedziału (0, 2). Dla pozostałych wartości metoda może nie być zbieżna dla pewnych przybliżeń początkowych."
   ]
  },
  {
   "cell_type": "code",
   "execution_count": 43,
   "metadata": {},
   "outputs": [],
   "source": [
    "def gauss_seidel(A, b, n, eps):\n",
    "    x = np.zeros_like(b)\n",
    "    it = 0\n",
    "    for _ in range(n):\n",
    "        x_new = np.zeros_like(x)\n",
    "        it += 1\n",
    "        for i in range(A.shape[0]):\n",
    "            s1 = np.dot(A[i, :i], x_new[:i])\n",
    "            s2 = np.dot(A[i, i + 1:], x[i + 1:])\n",
    "            x_new[i] = (b[i] - s1 - s2) / A[i, i]\n",
    "        if np.allclose(x, x_new, atol=eps, rtol=0):\n",
    "            return x_new, it\n",
    "        x = x_new\n",
    "    return x, it\n",
    "\n",
    "\n",
    "def sor(A, b, n, eps, omg):\n",
    "    if omg < 0 or omg > 2:\n",
    "        raise Exception(\"Omega must be from range (0, 2)\")\n",
    "    it = 0\n",
    "    x = np.zeros_like(b)\n",
    "    x_new = np.zeros_like(x)\n",
    "    for _ in range(n):\n",
    "        it += 1\n",
    "        for i in range(b.shape[0]):\n",
    "            old_sum = np.dot(A[i, i + 1:], x_new[i + 1:])\n",
    "            new_sum = np.dot(A[i, :i], x[:i])\n",
    "            x[i] = (b[i] - (old_sum + new_sum)) / A[i, i]\n",
    "            x[i] = np.dot(x[i], omg) + np.dot(x_new[i], (1 - omg))\n",
    "        if np.linalg.norm(np.dot(A, x) - b) < eps:\n",
    "            return x_new, it\n",
    "        x_new = x\n",
    "    return x, it\n",
    "\n",
    "\n",
    "def comparison2(m_min, m_max, v_min, v_max, n_size, n_iter, eps=1e-10, omg=1.5):\n",
    "    A, b = random_matrix_vector(m_min, m_max, v_min, v_max, n_size)\n",
    "    print(f\"Numpy:\\n{np.linalg.solve(A, b)}\")\n",
    "    print(f\"Gauss_Seidel:\\n{gauss_seidel(A, b, n_iter, eps)[0]}\")\n",
    "    print(f\"SOR:\\n{sor(A, b, n_iter, eps, omg)[0]}\")"
   ]
  },
  {
   "cell_type": "code",
   "execution_count": 45,
   "metadata": {},
   "outputs": [
    {
     "name": "stdout",
     "output_type": "stream",
     "text": [
      "Numpy:\n",
      "[-0.12010686 -0.3120324   0.3806959   0.07000349 -0.10612008 -0.10246401\n",
      " -0.23998619 -0.19750562 -0.30412576  0.19027917]\n",
      "Gauss_Seidel:\n",
      "[-0.12010686 -0.3120324   0.3806959   0.07000349 -0.10612008 -0.10246401\n",
      " -0.23998619 -0.19750562 -0.30412576  0.19027917]\n",
      "SOR:\n",
      "[-0.12010686 -0.3120324   0.3806959   0.07000349 -0.10612008 -0.10246401\n",
      " -0.23998619 -0.19750562 -0.30412576  0.19027917]\n"
     ]
    }
   ],
   "source": [
    "comparison2(-10, 10, -10, 10, 10, 1000)"
   ]
  },
  {
   "cell_type": "code",
   "execution_count": 46,
   "metadata": {},
   "outputs": [
    {
     "name": "stdout",
     "output_type": "stream",
     "text": [
      "Numpy:\n",
      "[ 0.09203289 -0.08881479 -0.07058771  0.09227802  0.11420467 -0.02042917\n",
      "  0.0784208  -0.06383678 -0.00104755  0.05335582  0.11656632  0.12508545\n",
      "  0.05302632  0.02733111 -0.02666288  0.00778972 -0.09718888  0.13375373\n",
      " -0.06777019 -0.04109474]\n",
      "Gauss_Seidel:\n",
      "[ 0.09203289 -0.08881479 -0.07058771  0.09227802  0.11420467 -0.02042917\n",
      "  0.0784208  -0.06383678 -0.00104755  0.05335582  0.11656632  0.12508545\n",
      "  0.05302632  0.02733111 -0.02666288  0.00778972 -0.09718888  0.13375373\n",
      " -0.06777019 -0.04109474]\n",
      "SOR:\n",
      "[ 0.09203289 -0.08881479 -0.07058771  0.09227802  0.11420467 -0.02042917\n",
      "  0.0784208  -0.06383678 -0.00104755  0.05335582  0.11656632  0.12508545\n",
      "  0.05302632  0.02733111 -0.02666288  0.00778972 -0.09718888  0.13375373\n",
      " -0.06777019 -0.04109474]\n"
     ]
    }
   ],
   "source": [
    "comparison2(-20, 20, -20, 20, 20, 1000)"
   ]
  },
  {
   "cell_type": "code",
   "execution_count": 47,
   "metadata": {},
   "outputs": [
    {
     "name": "stdout",
     "output_type": "stream",
     "text": [
      "Numpy:\n",
      "[-0.0321854  -0.02216663  0.00018558  0.02486188 -0.02687494  0.07358538\n",
      " -0.02185133 -0.03050423  0.0257396  -0.02175729 -0.01278765 -0.026569\n",
      " -0.06761443 -0.02094063  0.06466263 -0.04195842  0.05118    -0.05362808\n",
      " -0.03105369  0.04592793 -0.00480286 -0.03075339 -0.06815752 -0.03933744\n",
      " -0.04156389  0.01124329 -0.02493045 -0.0113854  -0.05926526 -0.03378868]\n",
      "Gauss_Seidel:\n",
      "[-0.0321854  -0.02216663  0.00018558  0.02486188 -0.02687494  0.07358538\n",
      " -0.02185133 -0.03050423  0.0257396  -0.02175729 -0.01278765 -0.026569\n",
      " -0.06761443 -0.02094063  0.06466263 -0.04195842  0.05118    -0.05362808\n",
      " -0.03105369  0.04592793 -0.00480286 -0.03075339 -0.06815752 -0.03933744\n",
      " -0.04156389  0.01124329 -0.02493045 -0.0113854  -0.05926526 -0.03378868]\n",
      "SOR:\n",
      "[-0.0321854  -0.02216663  0.00018558  0.02486188 -0.02687494  0.07358538\n",
      " -0.02185133 -0.03050423  0.0257396  -0.02175729 -0.01278765 -0.026569\n",
      " -0.06761443 -0.02094063  0.06466263 -0.04195842  0.05118    -0.05362808\n",
      " -0.03105369  0.04592793 -0.00480286 -0.03075339 -0.06815752 -0.03933744\n",
      " -0.04156389  0.01124329 -0.02493045 -0.0113854  -0.05926526 -0.03378868]\n"
     ]
    }
   ],
   "source": [
    "comparison2(-100, 100, -100, 100, 30, 1000)"
   ]
  },
  {
   "cell_type": "markdown",
   "metadata": {},
   "source": [
    "Jak widać powyżej, wszystkie metody działają poprawnie."
   ]
  },
  {
   "cell_type": "code",
   "execution_count": 48,
   "metadata": {},
   "outputs": [],
   "source": [
    "def comparison3(m_min, m_max, v_min, v_max, n_size, n_iter, eps=1e-10, omg=1.5):\n",
    "    A, b = random_matrix_vector(m_min, m_max, v_min, v_max, n_size)\n",
    "    x, it = jacobi(A, b, eps, n_iter)\n",
    "    print(f\"Jacobi:\\n Iterations: {it}\\n{x}\")\n",
    "    x, it = gauss_seidel(A, b, n_iter, eps)\n",
    "    print(f\"Gauss_Seidel:\\nIterations: {it}\\n{x}\")\n",
    "    x, it = sor(A, b, n_iter, eps, omg)\n",
    "    print(f\"SOR:\\nIterations: {it}\\n{x}\")"
   ]
  },
  {
   "cell_type": "code",
   "execution_count": 49,
   "metadata": {},
   "outputs": [
    {
     "name": "stdout",
     "output_type": "stream",
     "text": [
      "Jacobi:\n",
      " Iterations: 39\n",
      "[-0.0376315   0.18732407 -0.20419917 -0.18273092  0.21259866  0.02192202\n",
      "  0.05981271  0.01540353 -0.14102215 -0.09272504]\n",
      "Gauss_Seidel:\n",
      "Iterations: 22\n",
      "[-0.0376315   0.18732407 -0.20419917 -0.18273092  0.21259866  0.02192202\n",
      "  0.05981271  0.01540353 -0.14102215 -0.09272504]\n",
      "SOR:\n",
      "Iterations: 24\n",
      "[-0.0376315   0.18732407 -0.20419917 -0.18273092  0.21259866  0.02192202\n",
      "  0.05981271  0.01540353 -0.14102215 -0.09272504]\n"
     ]
    }
   ],
   "source": [
    "comparison3(-10, 10, -10, 10, 10, 1000)"
   ]
  },
  {
   "cell_type": "code",
   "execution_count": 50,
   "metadata": {},
   "outputs": [
    {
     "name": "stdout",
     "output_type": "stream",
     "text": [
      "Jacobi:\n",
      " Iterations: 29\n",
      "[ 0.08181247  0.05881358 -0.02398448  0.05757182  0.07543283  0.06127651\n",
      " -0.03311482 -0.01769118  0.0208985   0.03365785  0.13404553  0.10316285\n",
      " -0.12148313 -0.05605743  0.13003905 -0.01722555 -0.09508933  0.13136656\n",
      "  0.07494945  0.08518107]\n",
      "Gauss_Seidel:\n",
      "Iterations: 13\n",
      "[ 0.08181247  0.05881358 -0.02398448  0.05757182  0.07543283  0.06127651\n",
      " -0.03311482 -0.01769118  0.0208985   0.03365785  0.13404553  0.10316285\n",
      " -0.12148313 -0.05605743  0.13003905 -0.01722555 -0.09508933  0.13136656\n",
      "  0.07494945  0.08518107]\n",
      "SOR:\n",
      "Iterations: 15\n",
      "[ 0.08181247  0.05881358 -0.02398448  0.05757182  0.07543283  0.06127651\n",
      " -0.03311482 -0.01769118  0.0208985   0.03365785  0.13404553  0.10316285\n",
      " -0.12148313 -0.05605743  0.13003905 -0.01722555 -0.09508933  0.13136656\n",
      "  0.07494945  0.08518107]\n"
     ]
    }
   ],
   "source": [
    "comparison3(-20, 20, -20, 20, 20, 1000)"
   ]
  },
  {
   "cell_type": "code",
   "execution_count": 51,
   "metadata": {},
   "outputs": [
    {
     "name": "stdout",
     "output_type": "stream",
     "text": [
      "Jacobi:\n",
      " Iterations: 22\n",
      "[ 0.04988089  0.04765455  0.01221578  0.01301578  0.02232821 -0.0661494\n",
      "  0.00239306  0.06815424  0.00018607  0.03658219  0.02321629 -0.05949013\n",
      " -0.01460656 -0.02366768 -0.06282118  0.00768406 -0.06449115 -0.06474164\n",
      "  0.00571895 -0.05450752  0.01025136  0.03087156  0.00384137  0.04421521\n",
      "  0.03588128  0.0188421  -0.00560743  0.06887877  0.06643239 -0.02254553]\n",
      "Gauss_Seidel:\n",
      "Iterations: 12\n",
      "[ 0.04988089  0.04765455  0.01221578  0.01301578  0.02232821 -0.0661494\n",
      "  0.00239306  0.06815424  0.00018607  0.03658219  0.02321629 -0.05949013\n",
      " -0.01460656 -0.02366768 -0.06282118  0.00768406 -0.06449115 -0.06474164\n",
      "  0.00571895 -0.05450752  0.01025136  0.03087156  0.00384137  0.04421521\n",
      "  0.03588128  0.0188421  -0.00560743  0.06887877  0.06643239 -0.02254553]\n",
      "SOR:\n",
      "Iterations: 16\n",
      "[ 0.04988089  0.04765455  0.01221578  0.01301578  0.02232821 -0.0661494\n",
      "  0.00239306  0.06815424  0.00018607  0.03658219  0.02321629 -0.05949013\n",
      " -0.01460656 -0.02366768 -0.06282118  0.00768406 -0.06449115 -0.06474164\n",
      "  0.00571895 -0.05450752  0.01025136  0.03087156  0.00384137  0.04421521\n",
      "  0.03588128  0.0188421  -0.00560743  0.06887877  0.06643239 -0.02254553]\n"
     ]
    }
   ],
   "source": [
    "comparison3(-100, 100, -100, 100, 30, 1000)"
   ]
  },
  {
   "cell_type": "markdown",
   "metadata": {},
   "source": [
    "Na podstawie powyższego porównania zbieżności można wywnioskować, że najszybciej zbieżna jest metoda Gaussa, następnie SOR a na końcu Jacobi"
   ]
  }
 ],
 "metadata": {
  "kernelspec": {
   "display_name": "Python 3",
   "language": "python",
   "name": "python3"
  },
  "language_info": {
   "codemirror_mode": {
    "name": "ipython",
    "version": 3
   },
   "file_extension": ".py",
   "mimetype": "text/x-python",
   "name": "python",
   "nbconvert_exporter": "python",
   "pygments_lexer": "ipython3",
   "version": "3.7.6"
  }
 },
 "nbformat": 4,
 "nbformat_minor": 4
}
