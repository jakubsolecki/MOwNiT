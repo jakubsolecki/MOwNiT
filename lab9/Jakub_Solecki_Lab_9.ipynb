{
 "cells": [
  {
   "cell_type": "markdown",
   "metadata": {},
   "source": [
    "## Rozwiązywanie układów równań liniowych \n",
    "\n",
    "### Zadanie 1 \n",
    "Zaimplemenuj metodę eliminacji Gaussa bez pivotingu i z pivotingiem dla układu równań o dowolnym rozmiarze.  "
   ]
  },
  {
   "cell_type": "code",
   "execution_count": 14,
   "metadata": {},
   "outputs": [],
   "source": [
    "import numpy as np\n",
    "from tabulate import tabulate\n",
    "\n",
    "\n",
    "# ============================================================\n",
    "# Gaussian elimination without pivoting\n",
    "# ============================================================\n",
    "\n",
    "def forward_elimination(A, b):\n",
    "    n = len(A)\n",
    "    for k in range(0, n-1):\n",
    "        for i in range(k+1, n):\n",
    "            factor = A[i][k] / A[k][k]\n",
    "            for j in range(k, n):\n",
    "                A[i][j] = A[i][j] - factor * A[k][j]\n",
    "            b[i] = b[i] - factor * b[k]\n",
    "    return A, b\n",
    "\n",
    "\n",
    "def back_substitution(A, b):\n",
    "    n = len(A)\n",
    "    x = [0 for _ in range(n)]\n",
    "    x[n-1] = b[n-1] / A[n-1][n-1]\n",
    "    for k in range(n-2, -1, -1):\n",
    "        sums = b[k]\n",
    "        for j in range(k+1, n):\n",
    "            sums = sums - A[k][j] * x[j]\n",
    "        x[k] = sums / A[k][k]\n",
    "    return x\n",
    "\n",
    "\n",
    "def gauss_without_pivot(A, b):\n",
    "    for i in range(len(A)):\n",
    "        if len(A) != len(A[i]):\n",
    "            raise ZeroDivisionError('Division by zero will occur; pivoting currently not supported')\n",
    "    A, b = forward_elimination(A, b)\n",
    "    return back_substitution(A, b)\n",
    "\n",
    "\n",
    "# ============================================================\n",
    "# Gaussian elimination with pivoting\n",
    "# ============================================================\n",
    "\n",
    "def gauss_with_pivot(A, b):\n",
    "    n = len(A)\n",
    "    M = A\n",
    "    i = 0\n",
    "\n",
    "    for x in A:\n",
    "        x.append(b[i])\n",
    "        i += 1\n",
    "\n",
    "    for k in range(n):\n",
    "        for i in range(k, n):\n",
    "            if abs(M[i][k]) > abs(M[k][k]):\n",
    "                M[k], M[i] = M[i], M[k]\n",
    "\n",
    "        for j in range(k+1, n):\n",
    "            q = M[j][k] / M[k][k]\n",
    "            for m in range(k, n+1):\n",
    "                M[j][m] -= q * M[k][m]\n",
    "\n",
    "    x = [0 for _ in range(n)]\n",
    "\n",
    "    x[n-1] = M[n-1][n] / M[n-1][n-1]\n",
    "    for i in range(n-1, -1, -1):\n",
    "        z = 0\n",
    "        for j in range(i+1, n):\n",
    "            z += M[i][j]*x[j]\n",
    "        x[i] = (M[i][n] - z) / M[i][i]\n",
    "    return x"
   ]
  },
  {
   "cell_type": "markdown",
   "metadata": {},
   "source": [
    "### Zadanie 2\n",
    "Zademonstruj działanie algorytmu na macierzy o rozmiarze 5 x 5. Zademonstruj w jakiej sytuacji potrzebny jest pivoting i jak działa."
   ]
  },
  {
   "cell_type": "code",
   "execution_count": 17,
   "metadata": {},
   "outputs": [
    {
     "name": "stdout",
     "output_type": "stream",
     "text": [
      "Type                    x1           x2          x3         x4           x5\n",
      "----------------  --------  -----------  ----------  ---------  -----------\n",
      "Without pivoting  -44.4089  -0.00113169  -0.0105263   0.381579  -0.00140831\n",
      "With pivoting      16.2984  -0.462624    -0.680213   29.6515     0.00508228\n",
      "numpy.linalg       16.2984  -0.462624    -0.680213   29.6515     0.00508228\n"
     ]
    }
   ],
   "source": [
    "A = \\\n",
    "    [[0.00000000000000012, 4200, 34, 65, 9012],\n",
    "     [0.5, 0.00000056, 2320, 53, 456],\n",
    "     [1, 17.000005, 7, 0.000000000004, 458],\n",
    "     [38, 9, 896, 0.000000006, 58],\n",
    "     [586, 6, 3857, 56, 0.000065]]\n",
    "b = \\\n",
    "    [7, 3.901, 6, 6, 858]\n",
    "x1 = gauss_without_pivot(A, b)\n",
    "\n",
    "C = \\\n",
    "    [[0.00000000000000012, 4200, 34, 65, 9012],\n",
    "     [0.5, 0.00000056, 2320, 53, 456],\n",
    "     [1, 17.000005, 7, 0.000000000004, 458],\n",
    "     [38, 9, 896, 0.000000006, 58],\n",
    "     [586, 6, 3857, 56, 0.000065]]\n",
    "d = \\\n",
    "    [7, 3.901, 6, 6, 8585]\n",
    "x2 = gauss_with_pivot(C, d)\n",
    "\n",
    "E = \\\n",
    "    [[0.00000000000000012, 4200, 34, 65, 9012],\n",
    "     [0.5, 0.00000056, 2320, 53, 456],\n",
    "     [1, 17.000005, 7, 0.000000000004, 458],\n",
    "     [38, 9, 896, 0.000000006, 58],\n",
    "     [586, 6, 3857, 56, 0.000065]]\n",
    "f = \\\n",
    "    [7, 3.901, 6, 6, 8585]\n",
    "x3 = np.linalg.solve(E, f)\n",
    "\n",
    "tab = [[\"Without pivoting\"] + x1,\n",
    "       [\"With pivoting\"] + x2,\n",
    "       [\"numpy.linalg\"] + list(x3)]\n",
    "\n",
    "print(tabulate(tab, headers=[\"Type\", \"x1\", \"x2\", \"x3\", \"x4\", \"x5\"]))"
   ]
  },
  {
   "cell_type": "markdown",
   "metadata": {},
   "source": [
    "Powodem błędu w zwykłym podejściu (bez pivotingu) jest duża różnica rzędów wielkości między wartościami (współczynnikami) macierzy. Poszczególne wiersze dzielimy przez bardzo mała liczbę (czyli mnożymy przez dużą), więc błędy zaokrągleń stają sie duże w stosunku do współczynników oryginalnej macierzy. Abo uniknąć tego problemu używamy pivota, który równoważy ten efekt poprzez wybieranie za każdym razem jako pivot liczbę o największej wartości bezwzględnej w danej kolumnie."
   ]
  },
  {
   "cell_type": "markdown",
   "metadata": {},
   "source": [
    "### Zadanie 3\n",
    "Podaj teorytyczną złożoność obliczeniową algorytmu eliminacji Gaussa. Przeprowadź testy wydajności swojego algorytmu sprawdzając jego działanie dla różnych rozmiarów macierzy (testy powinny być wykonane poza środowiskiem jupyter). Aby wygenerować układ równań, wygeneruj wektor rozwiązań i macierz współczynników losując wartości (skorzystaj z funkcji poznanych w Ćwiczeniu 2) i następnie oblicz wektor wyrazów wolnych. "
   ]
  },
  {
   "cell_type": "markdown",
   "metadata": {},
   "source": [
    "Teoretyczna złożoność algorytmu eliminacji Gaussa wynosi O($n^3$).\n",
    "Poniżej zamieszczam kod użyty do wykonania pomiarów. Wykres znajduje się w osobnym pliku PDF."
   ]
  },
  {
   "cell_type": "code",
   "execution_count": null,
   "metadata": {},
   "outputs": [],
   "source": [
    "import matplotlib.pyplot as plt\n",
    "import time\n",
    "\n",
    "\n",
    "def measure():\n",
    "    tab1 = []\n",
    "    tab2 = []\n",
    "    x_axis = []\n",
    "    for n in range(100, 400):\n",
    "        A = np.random.randint(-10000, 10000, size=(n, n))\n",
    "        b = np.random.rand(len(A))\n",
    "        C = A.copy()\n",
    "        d = b.copy()\n",
    "        try:\n",
    "            start_time_1 = time.time()\n",
    "            gauss_with_pivot(A.tolist(), b.tolist())\n",
    "            stop_time_1 = time.time()\n",
    "            start_time_2 = time.time()\n",
    "            gauss_without_pivot(C.tolist(), d.tolist())\n",
    "            stop_time_2 = time.time()\n",
    "            t1 = stop_time_1 - start_time_1\n",
    "            t2 = stop_time_2 - start_time_2\n",
    "            tab1.append(t1)\n",
    "            tab2.append(t2)\n",
    "            x_axis.append(n)\n",
    "            print(f\"{n}x{n} With pivot: {t1}\")\n",
    "            print(f\"{n}x{n} Without pivot: {t2}\\n\")\n",
    "        except ZeroDivisionError:\n",
    "            pass\n",
    "    return tab1, tab2, x_axis\n",
    "\n",
    "\n",
    "# tab1, tab2, x_axis = measure()\n",
    "\n",
    "plt.plot(x_axis, tab1, 'b.', label=\"With pivoting\")\n",
    "plt.plot(x_axis, tab2, 'r.', label=\"Without pivoting\")\n",
    "plt.xlabel(\"Square matrix size\")\n",
    "plt.ylabel(\"Time [s]\")\n",
    "plt.title(\"Time of evaluation fro Gaussian elimination\")\n",
    "plt.legend()\n",
    "plt.grid()\n",
    "plt.show()"
   ]
  }
 ],
 "metadata": {
  "kernelspec": {
   "display_name": "Python 3",
   "language": "python",
   "name": "python3"
  },
  "language_info": {
   "codemirror_mode": {
    "name": "ipython",
    "version": 3
   },
   "file_extension": ".py",
   "mimetype": "text/x-python",
   "name": "python",
   "nbconvert_exporter": "python",
   "pygments_lexer": "ipython3",
   "version": "3.7.6"
  }
 },
 "nbformat": 4,
 "nbformat_minor": 4
}
