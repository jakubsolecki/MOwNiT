{
 "cells": [
  {
   "cell_type": "markdown",
   "metadata": {},
   "source": [
    "### Zadanie 1\n",
    "Wykorzystaj funkcję finfo z biblioteki numpy aby określić precyzję i zakres różnych typów danych reprezentujących liczby zmienno-przecinkowe. Wyniki badania przedstaw w postaci zestawienia tabelarycznego."
   ]
  },
  {
   "cell_type": "code",
   "execution_count": null,
   "metadata": {},
   "outputs": [],
   "source": [
    "import numpy as np\n",
    "from tabulate import tabulate\n",
    "\n",
    "table = tabulate([['float64', np.finfo(np.float64).precision,\n",
    "                   f'{np.finfo(np.float64).min} to {np.finfo(np.float64).max}'],\n",
    "                  ['float32', np.finfo(np.float32).precision,\n",
    "                   f'{np.finfo(np.float32).min} to {np.finfo(np.float32).max}'],\n",
    "                  ['float16', np.finfo(np.float16).precision,\n",
    "                   f'{np.finfo(np.float16).min} to {np.finfo(np.float16).max}']],\n",
    "                 headers=['Type', 'Precision', 'Range'])\n",
    "print(table)"
   ]
  },
  {
   "cell_type": "markdown",
   "metadata": {},
   "source": [
    "### Zadanie 2 \n",
    "Napisz funkcję, która dla dowolnej liczby zmiennoprzecinkowej w precyzji 64-bitowej (w standardzie IEEE 754) przedstawi w wersji dziesiętnej i binarnej składniki liczby: znak, wykładnik i mantysa. Można wykorzystać między innymi bibliotekę bitstring. Zbadaj jak reprezentowaną są poszczególne składniki tego formatu: zakres, sposób kodowania liczby etc."
   ]
  },
  {
   "cell_type": "code",
   "execution_count": null,
   "metadata": {},
   "outputs": [],
   "source": [
    "!pip install bitstring\n",
    "!pip install tabulate\n",
    "import bitstring as bs\n",
    "\n",
    "\n",
    "def show_bin_and_dec(number):\n",
    "    float64 = bs.BitArray(float=number, length=64)\n",
    "    exponent = float64.bin[1:12]\n",
    "    mantissa = float64.bin[12:]\n",
    "\n",
    "    if float64[0] == 1:\n",
    "        sign = '-'\n",
    "    else:\n",
    "        sign = '+'\n",
    "\n",
    "    exponent_dec = 0\n",
    "    pow = 10\n",
    "    for i in exponent[0:]:\n",
    "        if i == '1':\n",
    "            exponent_dec += 2 ** pow\n",
    "        pow -= 1\n",
    "\n",
    "    pow = -1\n",
    "    mantissa_dec = 0\n",
    "    for i in mantissa[0:]:\n",
    "        if i == '1':\n",
    "            mantissa_dec += 2 ** pow\n",
    "        pow -= 1\n",
    "\n",
    "#     print('Floating point numbers (64-Bit):', '\\n')\n",
    "    print('number (dec) = sign (1 + mantissa) x 2 ** (exponent - 1023)')\n",
    "    print(number, '(dec) =', sign, f'(1 + {mantissa_dec}) x 2 ** ({exponent_dec} - 1023) = '\n",
    "                                   f'{sign}{1 + mantissa_dec} x 2 ** {exponent_dec - 1023}', '\\n')\n",
    "    print(\"Sign Exponent Mantissa\")\n",
    "    print(float64.bin[0], exponent, mantissa)\n",
    "    print(sign, exponent_dec, mantissa_dec, '\\n\\n')\n",
    "\n",
    "\n",
    "show_bin_and_dec(1.2)\n",
    "show_bin_and_dec(1.75)\n",
    "show_bin_and_dec(1.25)\n"
   ]
  },
  {
   "cell_type": "markdown",
   "metadata": {},
   "source": [
    "Liczby zmiennoprzecinkowe w precyzji 64-bitowej (wg standadru IEEE 754) są przechowywane w postaci 3 części:\n",
    "1. Pierwszy bit od (od lewej) oznacza znak. Dla 0 mamy liczbę dodatnią a 1 oznacza -.\n",
    "2. Następnie jest 11 bitów cechy. Za jej pomocą można \"przesuwać\" przecinek w liczbie. Jest to możliwe w obie strony (pozwala na reprezentację zarówno bardzo dużych jak i bardzo małych liczb - przez możliwość zwiększenia miejsca na część całkowitą lub ułamkową, zależnie od potrzeb). Pierwszy bit cechy oznacza, podobnie jak pierwszy bit całej liczby, znak. Liczba 'cecha - 1023' jest używana jako wykładnik potęgi 2 właśnie w celu przesuwania przecinka (stąd nazwa \"floating point - reprezentacja zmiennoprzecikowa\")\n",
    "3. Na końcu zanjdują się 52 bity mantysy, kodującej właściwą liczbę. W celu normalizacji zawsze (w domyśle) dodawane jest do nich 1."
   ]
  },
  {
   "cell_type": "markdown",
   "metadata": {},
   "source": [
    "### Zadanie 3 \n",
    "Wykorzystaj funkcję nextafter() z biblioteki numpy (lub inny sposób) i sprawdź rozdzielczość typu float (jakie mają wartości najbliższe sąsiadujące liczby float). Zaprezentuj wynik korzystając z funkcji z Zadania 2. "
   ]
  },
  {
   "cell_type": "code",
   "execution_count": null,
   "metadata": {},
   "outputs": [],
   "source": [
    "import numpy as np\n",
    "# from zad2 import show_bin_and_dec\n",
    "\n",
    "\n",
    "def next_float(x):\n",
    "    print(\"Next (closest) value to {} is {}\".format(x, np.nextafter(x, 1)))\n",
    "    print(show_bin_and_dec(x))\n",
    "    print(show_bin_and_dec(np.nextafter(x, 1)))\n",
    "\n",
    "\n",
    "next_float(1.2)\n",
    "next_float(1.75)\n",
    "next_float(1.25)\n"
   ]
  },
  {
   "cell_type": "markdown",
   "metadata": {},
   "source": [
    "### Zadanie 4\n",
    "Porównać reprezentację bitową liczby 1/3 dla typów float o różnej precyzji: float16, float32, float64. Sprawdź co się dzieje gdy zmienna o mniejszej precyzji konwertowana jest do wyższej. "
   ]
  },
  {
   "cell_type": "code",
   "execution_count": null,
   "metadata": {},
   "outputs": [],
   "source": [
    "import numpy as np\n",
    "from bitstring import BitArray\n",
    "\n",
    "\n",
    "def float_dec2bin(number, bits=64):\n",
    "    d_bin = BitArray(float=number, length=bits)\n",
    "    sign = int(d_bin[0])\n",
    "    if bits == 64:\n",
    "        exp = d_bin[1:12].bin\n",
    "        man = d_bin[12:].bin\n",
    "    elif bits == 32:\n",
    "        exp = d_bin[1:9].bin\n",
    "        man = d_bin[9:].bin\n",
    "    else:\n",
    "        exp = d_bin[1:6].bin\n",
    "        man = d_bin[6:].bin\n",
    "\n",
    "    return sign, exp, man\n",
    "\n",
    "\n",
    "print(\"float64:\", float_dec2bin(np.float64(1/10)))\n",
    "print(\"float32:\", float_dec2bin(np.float32(1/3)))\n",
    "print(\"float16:\", float_dec2bin(np.float16(1/3)))\n",
    "\n",
    "print(\"float16 -> float32:\", float_dec2bin(np.float32(np.float16(1/3))))\n",
    "print(\"float32 -> float64:\", float_dec2bin(np.float64(np.float32(1/3))))\n",
    "print(\"float16 -> float64:\", float_dec2bin(np.float16(np.float32(1/3))))\n",
    "\n"
   ]
  },
  {
   "cell_type": "markdown",
   "metadata": {},
   "source": [
    "Konwersja liczby z reprezentacji o mniejszej precyzji do większej nie ma większego sensu, gdyż liczba zapisana w mniejszej precyzji zawiera mniej informacji (jest mniej dokładna ze względu). Stąd też, kiedy konwertujemy ją do wyższej precyzji, nie zyskujemy nic ponieważ nasze dodatkowe (nowe) bity będą po prostu zerami. Z kolei konwersja w drugą stronę, tj. do mniejszych precyzji spowoduje utatę dokładności zapisanej liczby (czyli utratę części informacji o niej) - niejako \"odetneimy\" część bitów kodujących naszą liczbę."
   ]
  },
  {
   "cell_type": "markdown",
   "metadata": {
    "collapsed": true
   },
   "source": [
    "### Zadanie 5\n",
    "Sprawdź czym jest postać znormalizowana liczby typu float. Poniższy program generuje ciąg liczb. Wyświetl ich postać binarną i sprawdź czy są w postaci znormalizowanej (napisz stosowny kod, który to sprawdza). \n",
    "\n",
    "Liczba zmiennoprzecinkowa jest w postaci znormalizowanej gdy jej mantysa jest z przedzaiłu 0 a 1 (dla systemu dziesiętnego od 1 do 9 włącznie). Oznacza to, że cecha ktrórej używamy do \"przesuwania\" przecinka nie może być 0 w postaci znormalizowanej"
   ]
  },
  {
   "cell_type": "code",
   "execution_count": null,
   "metadata": {},
   "outputs": [],
   "source": [
    "import numpy as np\n",
    "from bitstring import BitArray\n",
    "\n",
    "\n",
    "def to_binary(number):\n",
    "    number_binary = BitArray(float=number, length=32)\n",
    "    if number_binary[1:9].bin == '00000000':\n",
    "        x = 'de'\n",
    "    else:\n",
    "        x = ''\n",
    "    print(number)\n",
    "    print(f'Is {x}normalised', int(number_binary[0]), number_binary[1:9].bin, number_binary[9:].bin, '\\n')\n",
    "\n",
    "\n",
    "a = np.float32(1.1)\n",
    "for i in range(0, 149):\n",
    "    a = a/np.float32(2.0)\n",
    "    to_binary(a)\n"
   ]
  },
  {
   "cell_type": "markdown",
   "metadata": {
    "collapsed": true
   },
   "source": [
    "### Zadanie 6\n",
    "Wyjaśnij dlaczego poniższy program nie działa prawidłowo. Sprawdź co się stanie gdy użyjemy typów o mniejszej precyzji. Zaproponuj inny sposób sumowania, który będzie dawał dokładne wyniki. "
   ]
  },
  {
   "cell_type": "code",
   "execution_count": null,
   "metadata": {},
   "outputs": [],
   "source": [
    "N = 100000000\n",
    "C = 0.09531258654533566;\n",
    "\n",
    "sum = 0.0 \n",
    "for i in range(0, N):\n",
    "    sum += C\n",
    "    \n",
    "print(sum)\n",
    "print(N*C)"
   ]
  },
  {
   "cell_type": "markdown",
   "metadata": {},
   "source": [
    "Powyższy błąd wynika z faktu, że liczby zmiennoprzecinkowe obarczone są pewnym błędem, spowodowanym skończoną liczbą bitów używanych do reprezentacji (potencjalnie nieskończonej liczby nieskończonych) wartości (czyli o skończonej precyzji). Dlatego też, sumując odpowiednio dużo razy wyżej podaną liczbę, za każdym razem zwiększamy nasz błąd. Wpewnym momencie wartość powyższej sumy może zacząć również przekraczać zakres wartości typu używanego do jej przechowywania. Poniżej prezentuję zestawienie dla sumowania \"wprost\" w 3 różnych stopniach precyzji oraz sumowanie z użyciem Algorytmu Sumacyjnego Kahana. Algorytm ten został stworzony właśnie w celu zminimalizowania błędów powodowanych przez sumowanie liczb zmiennoprzecinkowych o skończonej precyzji."
   ]
  },
  {
   "cell_type": "code",
   "execution_count": null,
   "metadata": {},
   "outputs": [],
   "source": [
    "import numpy as np\n",
    "from tabulate import tabulate\n",
    "\n",
    "\n",
    "def kahan_algorithm(x, n):\n",
    "    sum = 0.0\n",
    "    eps = 0.0\n",
    "    for i in range(0, n):\n",
    "        x_without_eps = x - eps\n",
    "        tmp_sum = sum + x_without_eps\n",
    "        eps = (tmp_sum - sum) - x_without_eps\n",
    "        sum = tmp_sum\n",
    "    return sum\n",
    "\n",
    "\n",
    "def add_n_times(x, n, sum):\n",
    "    for i in range(0, n):\n",
    "        sum += x\n",
    "    return sum\n",
    "\n",
    "\n",
    "table = [[\"float16\", add_n_times(np.float16(0.09531258654533566), 100000000, np.float16(0))],\n",
    "        [\"float32\", add_n_times(np.float32(0.09531258654533566), 100000000, np.float32(0))],\n",
    "        [\"float64\", add_n_times(np.float64(0.09531258654533566), 100000000, np.float64(0))],\n",
    "        [\"kahan algorithm\", kahan_algorithm(0.09531258654533566, 100000000)],\n",
    "        [\"Correct value:\", 0.09531258654533566*100000000]]\n",
    "\n",
    "print(tabulate(table, headers=['Type', 'Value'], floatfmt=\".10f\"))"
   ]
  }
 ],
 "metadata": {
  "kernelspec": {
   "display_name": "Python 3",
   "language": "python",
   "name": "python3"
  },
  "language_info": {
   "codemirror_mode": {
    "name": "ipython",
    "version": 3
   },
   "file_extension": ".py",
   "mimetype": "text/x-python",
   "name": "python",
   "nbconvert_exporter": "python",
   "pygments_lexer": "ipython3",
   "version": "3.8.2"
  }
 },
 "nbformat": 4,
 "nbformat_minor": 2
}
